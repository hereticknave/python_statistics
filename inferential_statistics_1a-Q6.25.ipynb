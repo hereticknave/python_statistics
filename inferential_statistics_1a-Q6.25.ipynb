{
    "cells": [
        {
            "cell_type": "markdown",
            "metadata": {},
            "source": "# Inferential Statistics Ia - Frequentism"
        },
        {
            "cell_type": "markdown",
            "metadata": {},
            "source": "## Learning objectives"
        },
        {
            "cell_type": "markdown",
            "metadata": {},
            "source": "Welcome to the first Frequentist inference mini-project! Over the course of working on this mini-project and the next frequentist mini-project, you'll learn the fundamental concepts associated with frequentist inference. The following list includes the topics you will become familiar with as you work through these two mini-projects:\n* the _z_-statistic\n* the _t_-statistic\n* the difference and relationship between the two\n* the Central Limit Theorem, including its assumptions and consequences\n* how to estimate the population mean and standard deviation from a sample\n* the concept of a sampling distribution of a test statistic, particularly for the mean\n* how to combine these concepts to calculate a confidence interval"
        },
        {
            "cell_type": "markdown",
            "metadata": {},
            "source": "## Prerequisites"
        },
        {
            "cell_type": "markdown",
            "metadata": {},
            "source": "For working through this notebook, you are expected to have a very basic understanding of:\n* what a random variable is\n* what a probability density function (pdf) is\n* what the cumulative density function is\n* a high-level sense of what the Normal distribution\n\nIf these concepts are new to you, please take a few moments to Google these topics in order to get a sense of what they are and how you might use them.\n\nWhile it's great if you have previous knowledge about sampling distributions, this assignment will introduce the concept and set you up to practice working using sampling distributions. This notebook was designed to bridge the gap between having a basic understanding of probability and random variables and being able to apply these concepts in Python. The second frequentist inference mini-project focuses on a real-world application of this type of inference to give you further practice using these concepts. "
        },
        {
            "cell_type": "markdown",
            "metadata": {},
            "source": "For this notebook, we will use data sampled from a known normal distribution. This allows us to compare our results with theoretical expectations."
        },
        {
            "cell_type": "markdown",
            "metadata": {},
            "source": "## I An introduction to sampling from the Normal distribution"
        },
        {
            "cell_type": "markdown",
            "metadata": {},
            "source": "First, let's explore the ways we can generate the Normal distribution. While there's a fair amount of interest in [sklearn](https://scikit-learn.org/stable/) within the machine learning community, you're likely to have heard of [scipy](https://docs.scipy.org/doc/scipy-0.15.1/reference/index.html) if you're coming from the sciences. For this assignment, you'll use [scipy.stats](https://docs.scipy.org/doc/scipy-0.15.1/reference/tutorial/stats.html) to complete your work."
        },
        {
            "cell_type": "code",
            "execution_count": 1,
            "metadata": {},
            "outputs": [],
            "source": "from scipy.stats import norm\nfrom scipy.stats import t\nimport numpy as np\nimport pandas as pd\nfrom numpy.random import seed\nimport matplotlib.pyplot as plt"
        },
        {
            "cell_type": "markdown",
            "metadata": {},
            "source": "__Q:__ Call up the documentation for the `norm` function imported above. What is the second listed method?"
        },
        {
            "cell_type": "code",
            "execution_count": 2,
            "metadata": {},
            "outputs": [
                {
                    "name": "stdout",
                    "output_type": "stream",
                    "text": "__class__\n"
                }
            ],
            "source": "print(dir(norm)[1])"
        },
        {
            "cell_type": "markdown",
            "metadata": {},
            "source": "__A:__"
        },
        {
            "cell_type": "markdown",
            "metadata": {},
            "source": "__Q:__ Use the method that generates random variates to draw five samples from the standard normal distribution."
        },
        {
            "cell_type": "markdown",
            "metadata": {},
            "source": "__A:__"
        },
        {
            "cell_type": "code",
            "execution_count": 3,
            "metadata": {},
            "outputs": [],
            "source": "seed(47)\n# draw five samples here\ns = np.random.normal(0.5,0.1,5)"
        },
        {
            "cell_type": "markdown",
            "metadata": {},
            "source": "__Q:__ What is the mean of this sample? Is it exactly equal to the value you expected? Hint: the sample was drawn from the standard normal distribution."
        },
        {
            "cell_type": "markdown",
            "metadata": {},
            "source": "__A:__"
        },
        {
            "cell_type": "code",
            "execution_count": 4,
            "metadata": {},
            "outputs": [
                {
                    "data": {
                        "text/plain": "0.5193555933341311"
                    },
                    "execution_count": 4,
                    "metadata": {},
                    "output_type": "execute_result"
                }
            ],
            "source": "# Calculate and print the mean here, hint: use np.mean()\nnp.mean(s)"
        },
        {
            "cell_type": "markdown",
            "metadata": {},
            "source": "__Q:__ What is the standard deviation of these numbers? Calculate this manually here as $\\sqrt{\\frac{\\sum_i(x_i - \\bar{x})^2}{n}}$. Hint: np.sqrt() and np.sum() will be useful here and remember that numpy supports [broadcasting](https://docs.scipy.org/doc/numpy/user/basics.broadcasting.html)."
        },
        {
            "cell_type": "markdown",
            "metadata": {},
            "source": "__A:__"
        },
        {
            "cell_type": "code",
            "execution_count": 5,
            "metadata": {},
            "outputs": [
                {
                    "name": "stdout",
                    "output_type": "stream",
                    "text": "0.0960619563947864\n"
                }
            ],
            "source": " \nmean = sum(s) / len(s) \nvariance = sum([((x - mean) ** 2) for x in s]) / len(s) \nstd = variance ** 0.5\nprint(std)\n"
        },
        {
            "cell_type": "markdown",
            "metadata": {},
            "source": "Here we have calculated the actual standard deviation of a small (size 5) data set. But in this case, this small data set is actually a sample from our larger (infinite) population. In this case, the population is infinite because we could keep drawing our normal random variates until our computers die. In general, the sample mean we calculate will not be equal to the population mean (as we saw above). A consequence of this is that the sum of squares of the deviations from the _population_ mean will be bigger than the sum of squares of the deviations from the _sample_ mean. In other words, the sum of squares of the deviations from the _sample_ mean is too small to give an unbiased estimate of the _population_ variance. An example of this effect is given [here](https://en.wikipedia.org/wiki/Bessel%27s_correction#Source_of_bias). Scaling our estimate of the variance by the factor $n/(n-1)$ gives an unbiased estimator of the population variance. This factor is known as [Bessel's correction](https://en.wikipedia.org/wiki/Bessel%27s_correction). The consequence of this is that the $n$ in the denominator is replaced by $n-1$.\n\n__Q:__ If all we had to go on was our five samples, what would be our best estimate of the population standard deviation? Use Bessel's correction ($n-1$ in the denominator), thus $\\sqrt{\\frac{\\sum_i(x_i - \\bar{x})^2}{n-1}}$."
        },
        {
            "cell_type": "markdown",
            "metadata": {},
            "source": "__A:__"
        },
        {
            "cell_type": "code",
            "execution_count": 6,
            "metadata": {},
            "outputs": [
                {
                    "name": "stdout",
                    "output_type": "stream",
                    "text": "0.10740053227518151\n"
                }
            ],
            "source": "\nvariance_b = sum([((x - mean) ** 2) for x in s]) / (len(s) -1) \nstd_b = variance_b ** 0.5\nprint(std_b)"
        },
        {
            "cell_type": "markdown",
            "metadata": {},
            "source": "__Q:__ Now use numpy's std function to calculate the standard deviation of our random samples. Which of the above standard deviations did it return?"
        },
        {
            "cell_type": "markdown",
            "metadata": {},
            "source": "__A:__"
        },
        {
            "cell_type": "code",
            "execution_count": 7,
            "metadata": {},
            "outputs": [
                {
                    "data": {
                        "text/plain": "0.0960619563947864"
                    },
                    "execution_count": 7,
                    "metadata": {},
                    "output_type": "execute_result"
                }
            ],
            "source": "np.std(s)"
        },
        {
            "cell_type": "markdown",
            "metadata": {},
            "source": "__Q:__ Consult the documentation for np.std() to see how to apply the correction for estimating the population parameter and verify this produces the expected result."
        },
        {
            "cell_type": "markdown",
            "metadata": {},
            "source": "__A:__"
        },
        {
            "cell_type": "code",
            "execution_count": 8,
            "metadata": {},
            "outputs": [
                {
                    "data": {
                        "text/plain": "0.10740053227518151"
                    },
                    "execution_count": 8,
                    "metadata": {},
                    "output_type": "execute_result"
                }
            ],
            "source": "np.std(s, ddof=1)"
        },
        {
            "cell_type": "markdown",
            "metadata": {},
            "source": "### Summary of section"
        },
        {
            "cell_type": "markdown",
            "metadata": {},
            "source": "In this section, you've been introduced to the scipy.stats package and used it to draw a small sample from the standard normal distribution. You've calculated the average (the mean) of this sample and seen that this is not exactly equal to the expected population parameter (which we know because we're generating the random variates from a specific, known distribution). You've been introduced to two ways of calculating the standard deviation; one uses $n$ in the denominator and the other uses $n-1$ (Bessel's correction). You've also seen which of these calculations np.std() performs by default and how to get it to generate the other."
        },
        {
            "cell_type": "markdown",
            "metadata": {},
            "source": "You use $n$ as the denominator if you want to calculate the standard deviation of a sequence of numbers. You use $n-1$ if you are using this sequence of numbers to estimate the population parameter. This brings us to some terminology that can be a little confusing.\n\nThe population parameter is traditionally written as $\\sigma$ and the sample statistic as $s$. Rather unhelpfully, $s$ is also called the sample standard deviation (using $n-1$) whereas the standard deviation of the sample uses $n$. That's right, we have the sample standard deviation and the standard deviation of the sample and they're not the same thing!\n\nThe sample standard deviation\n\\begin{equation}\ns = \\sqrt{\\frac{\\sum_i(x_i - \\bar{x})^2}{n-1}} \\approx \\sigma,\n\\end{equation}\nis our best (unbiased) estimate of the population parameter ($\\sigma$).\n\nIf your data set _is_ your entire population, you simply want to calculate the population parameter, $\\sigma$, via\n\\begin{equation}\n\\sigma = \\sqrt{\\frac{\\sum_i(x_i - \\bar{x})^2}{n}}\n\\end{equation}\nas you have complete, full knowledge of your population. In other words, your sample _is_ your population. It's worth noting at this point if your sample is your population then you know absolutely everything about your population, there are no probabilities really to calculate and no inference to be done.\n\nIf, however, you have sampled _from_ your population, you only have partial knowledge of the state of your population and the standard deviation of your sample is not an unbiased estimate of the standard deviation of the population, in which case you seek to estimate that population parameter via the sample standard deviation, which uses the $n-1$ denominator."
        },
        {
            "cell_type": "markdown",
            "metadata": {},
            "source": "You're now firmly in frequentist theory territory. Great work so far! Now let's dive deeper."
        },
        {
            "cell_type": "markdown",
            "metadata": {},
            "source": "## II Sampling distributions"
        },
        {
            "cell_type": "markdown",
            "metadata": {},
            "source": "So far we've been dealing with the concept of taking a sample from a population to infer the population parameters. One statistic we calculated for a sample was the mean. As our samples will be expected to vary from one draw to another, so will our sample statistics. If we were to perform repeat draws of size $n$ and calculate the mean of each, we would expect to obtain a distribution of values. This is the sampling distribution of the mean. The Central Limit Theorem (CLT) tells us that such a distribution will approach a normal distribution as $n$ increases. For the sampling distribution of the mean, the standard deviation of this distribution is given by\n\n\\begin{equation}\n\\sigma_{mean} = \\frac{\\sigma}{\\sqrt n}\n\\end{equation}\n\nwhere $\\sigma_{mean}$ is the standard deviation of the sampling distribution of the mean and $\\sigma$ is the standard deviation of the population (the population parameter)."
        },
        {
            "cell_type": "markdown",
            "metadata": {},
            "source": "This is important because typically we are dealing with samples from populations and all we know about the population is what we see in the sample. From this sample, we want to make inferences about the population. We may do this, for example, by looking at the histogram of the values and by calculating the mean and standard deviation (as estimates of the population parameters), and so we are intrinsically interested in how these quantities vary across samples. In other words, now that we've taken one sample of size $n$ and made some claims about the general population, what if we were to take another sample of size $n$? Would we get the same result? Would we make the same claims about the general population? This brings us to a fundamental question: _when we make some inference about a population based on our sample, how confident can we be that we've got it 'right'?_"
        },
        {
            "cell_type": "markdown",
            "metadata": {},
            "source": "Let's give our normal distribution a little flavor. Also, for didactic purposes, the standard normal distribution, with its variance equal to its standard deviation of one, would not be a great illustration of a key point. Let us imagine we live in a town of 50000 people and we know the height of everyone in this town. We will have 50000 numbers that tell us everything about our population. We'll simulate these numbers now and put ourselves in one particular town, called 'town 47', where the population mean height is 172 cm and population standard deviation is 5 cm."
        },
        {
            "cell_type": "code",
            "execution_count": 9,
            "metadata": {},
            "outputs": [],
            "source": "seed(47)\npop_heights = norm.rvs(172, 5, size=50000)"
        },
        {
            "cell_type": "code",
            "execution_count": 10,
            "metadata": {},
            "outputs": [
                {
                    "data": {
                        "image/png": "[encoded data removed]",
                        "text/plain": "<Figure size 432x288 with 1 Axes>"
                    },
                    "metadata": {
                        "needs_background": "light"
                    },
                    "output_type": "display_data"
                }
            ],
            "source": "_ = plt.hist(pop_heights, bins=30)\n_ = plt.xlabel('height (cm)')\n_ = plt.ylabel('number of people')\n_ = plt.title('Distribution of heights in entire town population')\n_ = plt.axvline(172, color='r')\n_ = plt.axvline(172+5, color='r', linestyle='--')\n_ = plt.axvline(172-5, color='r', linestyle='--')\n_ = plt.axvline(172+10, color='r', linestyle='-.')\n_ = plt.axvline(172-10, color='r', linestyle='-.')"
        },
        {
            "cell_type": "markdown",
            "metadata": {},
            "source": "Now, 50000 people is rather a lot to chase after with a tape measure. If all you want to know is the average height of the townsfolk, then can you just go out and measure a sample to get a pretty good estimate of the average height?"
        },
        {
            "cell_type": "code",
            "execution_count": 11,
            "metadata": {},
            "outputs": [],
            "source": "def townsfolk_sampler(n):\n    return np.random.choice(pop_heights, n)"
        },
        {
            "cell_type": "markdown",
            "metadata": {},
            "source": "Let's say you go out one day and randomly sample 10 people to measure."
        },
        {
            "cell_type": "code",
            "execution_count": 12,
            "metadata": {},
            "outputs": [],
            "source": "seed(47)\ndaily_sample1 = townsfolk_sampler(10)"
        },
        {
            "cell_type": "code",
            "execution_count": 13,
            "metadata": {},
            "outputs": [
                {
                    "data": {
                        "image/png": "[encoded data removed]",
                        "text/plain": "<Figure size 432x288 with 1 Axes>"
                    },
                    "metadata": {
                        "needs_background": "light"
                    },
                    "output_type": "display_data"
                }
            ],
            "source": "_ = plt.hist(daily_sample1, bins=10)\n_ = plt.xlabel('height (cm)')\n_ = plt.ylabel('number of people')\n_ = plt.title('Distribution of heights in sample size 10')"
        },
        {
            "cell_type": "markdown",
            "metadata": {},
            "source": "The sample distribution doesn't look much like what we know (but wouldn't know in real-life) the population distribution looks like. What do we get for the mean?"
        },
        {
            "cell_type": "code",
            "execution_count": null,
            "metadata": {},
            "outputs": [],
            "source": ""
        },
        {
            "cell_type": "code",
            "execution_count": 14,
            "metadata": {},
            "outputs": [
                {
                    "data": {
                        "text/plain": "173.47911444163503"
                    },
                    "execution_count": 14,
                    "metadata": {},
                    "output_type": "execute_result"
                }
            ],
            "source": "np.mean(daily_sample1)"
        },
        {
            "cell_type": "markdown",
            "metadata": {},
            "source": "And if we went out and repeated this experiment?"
        },
        {
            "cell_type": "code",
            "execution_count": 15,
            "metadata": {},
            "outputs": [],
            "source": "daily_sample2 = townsfolk_sampler(10)"
        },
        {
            "cell_type": "code",
            "execution_count": 16,
            "metadata": {},
            "outputs": [
                {
                    "data": {
                        "text/plain": "173.7317666636263"
                    },
                    "execution_count": 16,
                    "metadata": {},
                    "output_type": "execute_result"
                }
            ],
            "source": "np.mean(daily_sample2)"
        },
        {
            "cell_type": "markdown",
            "metadata": {},
            "source": "__Q:__ Simulate performing this random trial every day for a year, calculating the mean of each daily sample of 10, and plot the resultant sampling distribution of the mean."
        },
        {
            "cell_type": "markdown",
            "metadata": {},
            "source": "__A:__"
        },
        {
            "cell_type": "code",
            "execution_count": null,
            "metadata": {},
            "outputs": [],
            "source": "\n    "
        },
        {
            "cell_type": "code",
            "execution_count": 17,
            "metadata": {},
            "outputs": [],
            "source": "seed(47)\n# take your samples here\nmean_avg=list()\nfor i in range(365):\n    sample = townsfolk_sampler(10)\n    mean_avg.append(np.mean(sample))\n    "
        },
        {
            "cell_type": "code",
            "execution_count": 18,
            "metadata": {},
            "outputs": [
                {
                    "data": {
                        "image/png": "[encoded data removed]",
                        "text/plain": "<Figure size 432x288 with 1 Axes>"
                    },
                    "metadata": {
                        "needs_background": "light"
                    },
                    "output_type": "display_data"
                }
            ],
            "source": "_ = plt.hist(mean_avg, bins=10)\n_ = plt.xlabel('mean (cm)')\n_ = plt.title('Distribution of heights in sample size 10')"
        },
        {
            "cell_type": "markdown",
            "metadata": {},
            "source": "The above is the distribution of the means of samples of size 10 taken from our population. The Central Limit Theorem tells us the expected mean of this distribution will be equal to the population mean, and standard deviation will be $\\sigma / \\sqrt n$, which, in this case, should be approximately 1.58."
        },
        {
            "cell_type": "markdown",
            "metadata": {},
            "source": "__Q:__ Verify the above results from the CLT."
        },
        {
            "cell_type": "markdown",
            "metadata": {},
            "source": "__A:__"
        },
        {
            "cell_type": "code",
            "execution_count": 19,
            "metadata": {},
            "outputs": [
                {
                    "name": "stdout",
                    "output_type": "stream",
                    "text": "1.5756704135286475\n"
                }
            ],
            "source": "print(np.std(mean_avg))"
        },
        {
            "cell_type": "code",
            "execution_count": 20,
            "metadata": {},
            "outputs": [
                {
                    "name": "stdout",
                    "output_type": "stream",
                    "text": "0.08247435885585089\n"
                }
            ],
            "source": "clt_std = ((np.std(mean_avg))/(np.sqrt(len(mean_avg))))\nprint(clt_std)"
        },
        {
            "cell_type": "markdown",
            "metadata": {},
            "source": "Remember, in this instance, we knew our population parameters, that the average height really is 172 cm and the standard deviation is 5 cm, and we see some of our daily estimates of the population mean were as low as around 168 and some as high as 176."
        },
        {
            "cell_type": "markdown",
            "metadata": {},
            "source": "__Q:__ Repeat the above year's worth of samples but for a sample size of 50 (perhaps you had a bigger budget for conducting surveys that year!) Would you expect your distribution of sample means to be wider (more variable) or narrower (more consistent)? Compare your resultant summary statistics to those predicted by the CLT."
        },
        {
            "cell_type": "markdown",
            "metadata": {},
            "source": "__A:__"
        },
        {
            "cell_type": "code",
            "execution_count": 21,
            "metadata": {},
            "outputs": [
                {
                    "data": {
                        "image/png": "[encoded data removed]",
                        "text/plain": "<Figure size 432x288 with 1 Axes>"
                    },
                    "metadata": {
                        "needs_background": "light"
                    },
                    "output_type": "display_data"
                }
            ],
            "source": "seed(47)\n# calculate daily means from the larger sample size here\nmean_avg2=list()\nfor i in range(365):\n    sample = townsfolk_sampler(50)\n    mean_avg2.append(np.mean(sample))\n\n    \n_ = plt.hist(mean_avg2, bins=10)\n_ = plt.xlabel('mean (cm)')\n_ = plt.title('Distribution of heights in sample size 50')\n    "
        },
        {
            "cell_type": "code",
            "execution_count": 22,
            "metadata": {},
            "outputs": [
                {
                    "name": "stdout",
                    "output_type": "stream",
                    "text": "0.6736107539771146\n0.03525839831456527\n"
                }
            ],
            "source": "print(np.std(mean_avg2))\n\nclt_std = ((np.std(mean_avg2))/(np.sqrt(len(mean_avg2))))\nprint(clt_std)"
        },
        {
            "cell_type": "markdown",
            "metadata": {},
            "source": "What we've seen so far, then, is that we can estimate population parameters from a sample from the population, and that samples have their own distributions. Furthermore, the larger the sample size, the narrower are those sampling distributions."
        },
        {
            "cell_type": "markdown",
            "metadata": {},
            "source": "### III Normally testing times!"
        },
        {
            "cell_type": "markdown",
            "metadata": {},
            "source": "All of the above is well and good. We've been sampling from a population we know is normally distributed, we've come to understand when to use $n$ and when to use $n-1$ in the denominator to calculate the spread of a distribution, and we've  seen the Central Limit Theorem in action for a sampling distribution. All seems very well behaved in Frequentist land. But, well, why should we really care?"
        },
        {
            "cell_type": "markdown",
            "metadata": {},
            "source": "Remember, we rarely (if ever) actually know our population parameters but you still have to estimate them somehow. If we want to make inferences such as \"is this observation unusual?\" or \"has my population mean changed?\" then you need to have some idea of what the underlying distribution is so you can calculate relevant probabilities. In frequentist inference, you use the formulas above to deduce these population parameters. Take a moment in the next part of this assignment to refresh your understanding of how these probabilities work."
        },
        {
            "cell_type": "markdown",
            "metadata": {},
            "source": "Recall some basic properties of the standard Normal distribution, such as about 68% of observations being within plus or minus 1 standard deviation of the mean.\n\n__Q:__ Using this fact, calculate the probability of observing the value 1 or less in a single observation from the standard normal distribution. Hint: you may find it helpful to sketch the standard normal distribution (the familiar bell shape) and mark the number of standard deviations from the mean on the x-axis and shade the regions of the curve that contain certain percentages of the population."
        },
        {
            "cell_type": "markdown",
            "metadata": {},
            "source": "__A:__"
        },
        {
            "cell_type": "code",
            "execution_count": 23,
            "metadata": {},
            "outputs": [
                {
                    "data": {
                        "image/png": "[encoded data removed]",
                        "text/plain": "<Figure size 432x288 with 1 Axes>"
                    },
                    "metadata": {
                        "needs_background": "light"
                    },
                    "output_type": "display_data"
                }
            ],
            "source": "plt.hist(mean_avg2, bins=25, density=True, alpha=0.6, color='g')\n\nmu, std = norm.fit(mean_avg2)\n\nxmin, xmax = plt.xlim()\nx = np.linspace(xmin, xmax, 100)\np = norm.pdf(x, mu, std)\nplt.plot(x, p, 'k', linewidth=2)\ntitle = \"Fit results: mean = %.2f,  std = %.2f\" % (mu, std)\nplt.title(title)\n\nplt.show()"
        },
        {
            "cell_type": "markdown",
            "metadata": {},
            "source": "Calculating this probability involved calculating the area under the pdf from the value of 1 and below. To put it another way, we need to integrate the pdf. We could just add together the known areas of chunks (from -Inf to 0 and then 0 to $+\\sigma$ in the example above. One way to do this is using look up tables (literally). Fortunately, scipy has this functionality built in with the cdf() function."
        },
        {
            "cell_type": "markdown",
            "metadata": {},
            "source": "__Q:__ Use the cdf() function to answer the question above again and verify you get the same answer."
        },
        {
            "cell_type": "markdown",
            "metadata": {},
            "source": "__A:__"
        },
        {
            "cell_type": "code",
            "execution_count": 24,
            "metadata": {},
            "outputs": [
                {
                    "data": {
                        "image/png": "[encoded data removed]",
                        "text/plain": "<Figure size 432x288 with 1 Axes>"
                    },
                    "metadata": {
                        "needs_background": "light"
                    },
                    "output_type": "display_data"
                }
            ],
            "source": "plt.hist(mean_avg2, bins=25, density=True, alpha=0.6, color='g')\n\nmu, std = norm.fit(mean_avg2)\n\nxmin, xmax = plt.xlim()\nx = np.linspace(xmin, xmax, 100)\np = norm.cdf(x, mu, std)\nplt.plot(x, p, 'k', linewidth=2)\ntitle = \"Fit results: mean = %.2f,  std = %.2f\" % (mu, std)\nplt.title(title)\n\nplt.show()"
        },
        {
            "cell_type": "markdown",
            "metadata": {},
            "source": "__Q:__ Using our knowledge of the population parameters for our townsfolk's heights, what is the probability of selecting one person at random and their height being 177 cm or less? Calculate this using both of the approaches given above."
        },
        {
            "cell_type": "markdown",
            "metadata": {},
            "source": "__A:__"
        },
        {
            "cell_type": "code",
            "execution_count": 25,
            "metadata": {},
            "outputs": [
                {
                    "name": "stdout",
                    "output_type": "stream",
                    "text": "1.198343523036313\nProbability : 95.87\n"
                }
            ],
            "source": "n = (178 - np.mean(pop_heights))/np.std(pop_heights)\nprint(n)\n\nif n > 1 and n < 2:\n    print('Probability : 95.87')\n    \n\n\n\n\n"
        },
        {
            "cell_type": "code",
            "execution_count": 42,
            "metadata": {},
            "outputs": [
                {
                    "data": {
                        "image/png": "[encoded data removed]",
                        "text/plain": "<Figure size 432x288 with 1 Axes>"
                    },
                    "metadata": {
                        "needs_background": "light"
                    },
                    "output_type": "display_data"
                }
            ],
            "source": "plt.hist(pop_heights, bins=25, density=True, alpha=0.5, color='g')\n\nmu, std = norm.fit(pop_heights)\n\nxmin, xmax = plt.xlim()\nx = np.linspace(xmin, xmax, 100)\np = norm.pdf(x, mu, std)\nplt.plot(x, p, 'k', linewidth=2)\ntitle = \"PDF Fit results: mean = %.2f,  std = %.2f\" % (mu, std)\nplt.title(title)\n\nplt.show()"
        },
        {
            "cell_type": "code",
            "execution_count": 27,
            "metadata": {},
            "outputs": [
                {
                    "data": {
                        "image/png": "[encoded data removed]",
                        "text/plain": "<Figure size 432x288 with 1 Axes>"
                    },
                    "metadata": {
                        "needs_background": "light"
                    },
                    "output_type": "display_data"
                }
            ],
            "source": "plt.hist(pop_heights, bins=25, density=True, alpha=0.6, color='g')\n\nmu, std = norm.fit(pop_heights)\n\nxmin, xmax = plt.xlim()\nx = np.linspace(xmin, xmax, 100)\np = norm.cdf(x, mu, std)\nplt.plot(x, p, 'k', linewidth=2)\ntitle = \"CDF Fit results: mean = %.2f,  std = %.2f\" % (mu, std)\nplt.title(title)\n\nplt.show()"
        },
        {
            "cell_type": "markdown",
            "metadata": {},
            "source": "__Q:__ Turning this question around. Let's say we randomly pick one person and measure their height and find they are 2.00 m tall? How surprised should we be at this result, given what we know about the population distribution? In other words, how likely would it be to obtain a value at least as extreme as this? Express this as a probability."
        },
        {
            "cell_type": "markdown",
            "metadata": {},
            "source": "__A:__"
        },
        {
            "cell_type": "code",
            "execution_count": 29,
            "metadata": {},
            "outputs": [
                {
                    "name": "stdout",
                    "output_type": "stream",
                    "text": "5.606419877489083\n1 in 3.5 million\n"
                }
            ],
            "source": "n = (200 - np.mean(pop_heights))/np.std(pop_heights)\nprint(n)\n\nif n>5:\n    print(\"1 in 3.5 million\")"
        },
        {
            "cell_type": "markdown",
            "metadata": {},
            "source": "We could calculate this probability by virtue of knowing the population parameters. We were then able to use the known properties of the relevant normal distribution to calculate the probability of observing a value at least as extreme as our test value. We have essentially just performed a z-test (albeit without having prespecified a threshold for our \"level of surprise\")!"
        },
        {
            "cell_type": "markdown",
            "metadata": {},
            "source": "We're about to come to a pinch, though here. We've said a couple of times that we rarely, if ever, know the true population parameters; we have to estimate them from our sample and we cannot even begin to estimate the standard deviation from a single observation. This is very true and usually we have sample sizes larger than one. This means we can calculate the mean of the sample as our best estimate of the population mean and the standard deviation as our best estimate of the population standard deviation. In other words, we are now coming to deal with the sampling distributions we mentioned above as we are generally concerned with the properties of the sample means we obtain.\n\nAbove, we highlighted one result from the CLT, whereby the sampling distribution (of the mean) becomes narrower and narrower with the square root of the sample size. We remind ourselves that another result from the CLT is that _even if the underlying population distribution is not normal, the sampling distribution will tend to become normal with sufficiently large sample size_. This is the key driver for us 'requiring' a certain sample size, for example you may frequently see a minimum sample size of 30 stated in many places. In reality this is simply a rule of thumb; if the underlying distribution is approximately normal then your sampling distribution will already be pretty normal, but if the underlying distribution is heavily skewed then you'd want to increase your sample size."
        },
        {
            "cell_type": "markdown",
            "metadata": {},
            "source": "__Q:__ Let's now start from the position of knowing nothing about the heights of people in our town.\n* Use our favorite random seed of 47, to randomly sample the heights of 50 townsfolk\n* Estimate the population mean using np.mean\n* Estimate the population standard deviation using np.std (remember which denominator to use!)\n* Calculate the (95%) [margin of error](https://www.statisticshowto.datasciencecentral.com/probability-and-statistics/hypothesis-testing/margin-of-error/#WhatMofE) (use the exact critial z value to 2 decimal places - [look this up](https://www.statisticshowto.datasciencecentral.com/probability-and-statistics/find-critical-values/) or use norm.ppf())\n* Calculate the 95% Confidence Interval of the mean\n* Does this interval include the true population mean?"
        },
        {
            "cell_type": "markdown",
            "metadata": {},
            "source": "__A:__"
        },
        {
            "cell_type": "code",
            "execution_count": 45,
            "metadata": {},
            "outputs": [
                {
                    "name": "stdout",
                    "output_type": "stream",
                    "text": "Mean : 172.7815108576788\nStandard deviation : 4.195424364433547\n"
                }
            ],
            "source": "seed(47)\n# take your sample now\nsample = townsfolk_sampler(50)\nprint('Mean :', np.mean(sample))\nvariance = sum([((x - np.mean(sample)) ** 2) for x in sample]) / (len(sample) -1) \nstd = variance ** 0.5\nprint('Standard deviation :', std)\n"
        },
        {
            "cell_type": "code",
            "execution_count": 56,
            "metadata": {},
            "outputs": [
                {
                    "name": "stdout",
                    "output_type": "stream",
                    "text": "95% margin of error : 1.1628909342876539\n"
                }
            ],
            "source": "zcritical = norm.ppf(q=0.975)\n\nmoe = zcritical*(std/(np.sqrt(len(sample))))\n\nprint('95% margin of error :', moe)\n"
        },
        {
            "cell_type": "code",
            "execution_count": 58,
            "metadata": {},
            "outputs": [
                {
                    "name": "stdout",
                    "output_type": "stream",
                    "text": "Confidence Interval : (171.61861992339115,173.94440179196644)\n"
                }
            ],
            "source": "upper_limit = np.mean(sample) + moe\nlower_limit = np.mean(sample) - moe\n\nprint(f\"Confidence Interval : ({lower_limit},{upper_limit})\")"
        },
        {
            "cell_type": "code",
            "execution_count": 59,
            "metadata": {},
            "outputs": [
                {
                    "name": "stdout",
                    "output_type": "stream",
                    "text": "Mean of the population : 172.0192602425845\n"
                }
            ],
            "source": "print(f\"Mean of the population : {np.mean(pop_heights)}\")"
        },
        {
            "cell_type": "code",
            "execution_count": 60,
            "metadata": {},
            "outputs": [
                {
                    "name": "stdout",
                    "output_type": "stream",
                    "text": "Mean : 172.0192602425845 is in between Confidence interval (171.61861992339115,173.94440179196644)\n"
                }
            ],
            "source": "print(f\"Mean : {np.mean(pop_heights)} is in between Confidence interval ({lower_limit},{upper_limit})\")"
        },
        {
            "cell_type": "markdown",
            "metadata": {},
            "source": "__Q:__ Above we calculated the confidence interval using the critical z value. What is the problem with this? What requirement, or requirements, are we (strictly) failing?"
        },
        {
            "cell_type": "markdown",
            "metadata": {},
            "source": "__A:__"
        },
        {
            "cell_type": "markdown",
            "metadata": {},
            "source": "__Q:__ Calculate the 95% confidence interval for the mean using the _t_ distribution. Is this wider or narrower than that based on the normal distribution above? If you're unsure, you may find this [resource](https://www.statisticshowto.datasciencecentral.com/probability-and-statistics/confidence-interval/) useful. For calculating the critical value, remember how you could calculate this for the normal distribution using norm.ppf()."
        },
        {
            "cell_type": "markdown",
            "metadata": {},
            "source": "__A:__"
        },
        {
            "cell_type": "code",
            "execution_count": 61,
            "metadata": {},
            "outputs": [
                {
                    "name": "stdout",
                    "output_type": "stream",
                    "text": "Rule of thumb\nif sample size is less than 30 : use T-score\nif sample size is greater than 50 : use Z-score\n"
                }
            ],
            "source": "print(\"Rule of thumb\") \nprint(\"if sample size is less than 30 : use T-score\")\nprint(\"if sample size is greater than 50 : use Z-score\")"
        },
        {
            "cell_type": "code",
            "execution_count": 67,
            "metadata": {},
            "outputs": [
                {
                    "name": "stdout",
                    "output_type": "stream",
                    "text": "95% margin of error : 1.1923264102757953\n"
                }
            ],
            "source": "tcritical = t.ppf(q=0.975,df=49)\n\nmoe = tcritical*(std/(np.sqrt(len(sample))))\n\nprint('95% margin of error :', moe)\n\nupper_limit = np.mean(sample) + moe\nlower_limit = np.mean(sample) - moe\n\nprint(f\"Confidence Interval : ({lower_limit},{upper_limit})\")"
        },
        {
            "cell_type": "code",
            "execution_count": 70,
            "metadata": {},
            "outputs": [
                {
                    "name": "stdout",
                    "output_type": "stream",
                    "text": "Mean : 172.0192602425845 is in between Confidence interval (171.589184447403,173.9738372679546)\nResults using T-score are wider than Z-score\n"
                }
            ],
            "source": "print(f\"Mean : {np.mean(pop_heights)} is in between Confidence interval ({lower_limit},{upper_limit})\")\n\nprint(\"Results using T-score are wider than Z-score\")"
        },
        {
            "cell_type": "markdown",
            "metadata": {},
            "source": "This is slightly wider than the previous confidence interval. This reflects the greater uncertainty given that we are estimating population parameters from a sample."
        },
        {
            "cell_type": "markdown",
            "metadata": {},
            "source": "## Learning outcomes"
        },
        {
            "cell_type": "markdown",
            "metadata": {},
            "source": "Having completed this project notebook, you now have hands-on experience:\n* sampling and calculating probabilities from a normal distribution\n* the correct way to estimate the standard deviation of a population (the population parameter) from a sample\n* what a sampling distribution is and how the Central Limit Theorem applies\n* how to calculate critical values and confidence intervals"
        }
    ],
    "metadata": {
        "kernelspec": {
            "display_name": "Python 3.6",
            "language": "python",
            "name": "python3"
        },
        "language_info": {
            "codemirror_mode": {
                "name": "ipython",
                "version": 3
            },
            "file_extension": ".py",
            "mimetype": "text/x-python",
            "name": "python",
            "nbconvert_exporter": "python",
            "pygments_lexer": "ipython3",
            "version": "3.6.9"
        }
    },
    "nbformat": 4,
    "nbformat_minor": 2
}