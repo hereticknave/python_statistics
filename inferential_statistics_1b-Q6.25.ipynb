{
    "cells": [
        {
            "cell_type": "markdown",
            "metadata": {},
            "source": "# Inferential Statistics Ib - Frequentism"
        },
        {
            "cell_type": "markdown",
            "metadata": {},
            "source": "## Learning objectives"
        },
        {
            "cell_type": "markdown",
            "metadata": {},
            "source": "Welcome to the second Frequentist inference mini-project! Over the course of working on this mini-project and the previous frequentist mini-project, you'll learn the fundamental concepts associated with frequentist inference. The following list includes the topics you will become familiar with as you work through these two mini-projects:\n* the _z_-statistic\n* the _t_-statistic\n* the difference and relationship between the two\n* the Central Limit Theorem, its assumptions and consequences\n* how to estimate the population mean and standard deviation from a sample\n* the concept of a sampling distribution of a test statistic, particularly for the mean\n* how to combine these concepts to calculate confidence intervals and p-values\n* how those confidence intervals and p-values allow you to perform hypothesis (or A/B) tests"
        },
        {
            "cell_type": "markdown",
            "metadata": {},
            "source": "## Prerequisites"
        },
        {
            "cell_type": "markdown",
            "metadata": {},
            "source": "* what a random variable is\n* what a probability density function (pdf) is\n* what the cumulative density function is\n* a high-level sense of what the Normal distribution\n\nIf these concepts are new to you, please take a few moments to Google these topics in order to get a sense of what they are and how you might use them.\n\nThese two notebooks were designed to bridge the gap between having a basic understanding of probability and random variables and being able to apply these concepts in Python. This second frequentist inference mini-project focuses on a real-world application of this type of inference to give you further practice using these concepts. "
        },
        {
            "cell_type": "markdown",
            "metadata": {},
            "source": "In the previous notebook, we used only data from a known normal distribution. You'll now tackle real data, rather than simulated data, and answer some relevant real-world business problems using the data."
        },
        {
            "cell_type": "markdown",
            "metadata": {},
            "source": "## Hospital medical charges"
        },
        {
            "cell_type": "markdown",
            "metadata": {},
            "source": "Imagine that a hospital has hired you as their data analyst. An administrator is working on the hospital's business operations plan and needs you to help them answer some business questions. This mini-project, as well as the bootstrap and Bayesian inference mini-projects also found in this unit are designed to illustrate how each of the inferential statistics methods have their uses for different use cases. In this assignment notebook, you're going to use frequentist statistical inference on a data sample to answer the questions:\n* has the hospital's revenue stream fallen below a key threshold?\n* are patients with insurance really charged different amounts than those without?\nAnswering that last question with a frequentist approach makes some assumptions, or requires some knowledge, about the two groups. In the next mini-project, you'll use bootstrapping to test that assumption. And in the final mini-project of the unit, you're going to create a model for simulating _individual_ charges (not a sampling distribution) that the hospital can use to model a range of scenarios."
        },
        {
            "cell_type": "markdown",
            "metadata": {},
            "source": "We are going to use some data on medical charges obtained from [Kaggle](https://www.kaggle.com/easonlai/sample-insurance-claim-prediction-dataset). For the purposes of this exercise, assume the observations are the result of random sampling from our one hospital. Recall in the previous assignment, we introduced the Central Limit Theorem (CLT), and how it tells us that the distributions of sample statistics approach a normal distribution as $n$ increases. The amazing thing about this is that it applies to the sampling distributions of statistics that have been calculated from even highly non-normal distributions of data. Remember, also, that hypothesis testing is very much based on making inferences about such sample statistics. You're going to rely heavily on the CLT to apply frequentist (parametric) tests to answer the questions in this notebook."
        },
        {
            "cell_type": "code",
            "execution_count": 1,
            "metadata": {},
            "outputs": [],
            "source": "# The code was removed by Watson Studio for sharing."
        },
        {
            "cell_type": "code",
            "execution_count": 2,
            "metadata": {},
            "outputs": [],
            "source": "import pandas as pd\nimport numpy as np\nimport matplotlib.pyplot as plt\nfrom scipy.stats import t\nfrom numpy.random import seed\nmedical = pd.read_csv('insurance2.csv')"
        },
        {
            "cell_type": "code",
            "execution_count": 3,
            "metadata": {},
            "outputs": [
                {
                    "data": {
                        "text/plain": "(1338, 8)"
                    },
                    "execution_count": 3,
                    "metadata": {},
                    "output_type": "execute_result"
                }
            ],
            "source": "medical.shape"
        },
        {
            "cell_type": "code",
            "execution_count": 4,
            "metadata": {},
            "outputs": [
                {
                    "data": {
                        "text/html": "<div>\n<style scoped>\n    .dataframe tbody tr th:only-of-type {\n        vertical-align: middle;\n    }\n\n    .dataframe tbody tr th {\n        vertical-align: top;\n    }\n\n    .dataframe thead th {\n        text-align: right;\n    }\n</style>\n<table border=\"1\" class=\"dataframe\">\n  <thead>\n    <tr style=\"text-align: right;\">\n      <th></th>\n      <th>age</th>\n      <th>sex</th>\n      <th>bmi</th>\n      <th>children</th>\n      <th>smoker</th>\n      <th>region</th>\n      <th>charges</th>\n      <th>insuranceclaim</th>\n    </tr>\n  </thead>\n  <tbody>\n    <tr>\n      <th>0</th>\n      <td>19</td>\n      <td>0</td>\n      <td>27.900</td>\n      <td>0</td>\n      <td>1</td>\n      <td>3</td>\n      <td>16884.92400</td>\n      <td>1</td>\n    </tr>\n    <tr>\n      <th>1</th>\n      <td>18</td>\n      <td>1</td>\n      <td>33.770</td>\n      <td>1</td>\n      <td>0</td>\n      <td>2</td>\n      <td>1725.55230</td>\n      <td>1</td>\n    </tr>\n    <tr>\n      <th>2</th>\n      <td>28</td>\n      <td>1</td>\n      <td>33.000</td>\n      <td>3</td>\n      <td>0</td>\n      <td>2</td>\n      <td>4449.46200</td>\n      <td>0</td>\n    </tr>\n    <tr>\n      <th>3</th>\n      <td>33</td>\n      <td>1</td>\n      <td>22.705</td>\n      <td>0</td>\n      <td>0</td>\n      <td>1</td>\n      <td>21984.47061</td>\n      <td>0</td>\n    </tr>\n    <tr>\n      <th>4</th>\n      <td>32</td>\n      <td>1</td>\n      <td>28.880</td>\n      <td>0</td>\n      <td>0</td>\n      <td>1</td>\n      <td>3866.85520</td>\n      <td>1</td>\n    </tr>\n  </tbody>\n</table>\n</div>",
                        "text/plain": "   age  sex     bmi  children  smoker  region      charges  insuranceclaim\n0   19    0  27.900         0       1       3  16884.92400               1\n1   18    1  33.770         1       0       2   1725.55230               1\n2   28    1  33.000         3       0       2   4449.46200               0\n3   33    1  22.705         0       0       1  21984.47061               0\n4   32    1  28.880         0       0       1   3866.85520               1"
                    },
                    "execution_count": 4,
                    "metadata": {},
                    "output_type": "execute_result"
                }
            ],
            "source": "medical.head()"
        },
        {
            "cell_type": "markdown",
            "metadata": {},
            "source": "__Q:__ Plot the histogram of charges and calculate the mean and standard deviation. Comment on the appropriateness of these statistics for the data."
        },
        {
            "cell_type": "markdown",
            "metadata": {},
            "source": "__A:__"
        },
        {
            "cell_type": "code",
            "execution_count": 5,
            "metadata": {},
            "outputs": [
                {
                    "data": {
                        "text/html": "<div>\n<style scoped>\n    .dataframe tbody tr th:only-of-type {\n        vertical-align: middle;\n    }\n\n    .dataframe tbody tr th {\n        vertical-align: top;\n    }\n\n    .dataframe thead th {\n        text-align: right;\n    }\n</style>\n<table border=\"1\" class=\"dataframe\">\n  <thead>\n    <tr style=\"text-align: right;\">\n      <th></th>\n      <th>age</th>\n      <th>sex</th>\n      <th>bmi</th>\n      <th>children</th>\n      <th>smoker</th>\n      <th>region</th>\n      <th>charges</th>\n      <th>insuranceclaim</th>\n    </tr>\n  </thead>\n  <tbody>\n    <tr>\n      <th>count</th>\n      <td>1338.000000</td>\n      <td>1338.000000</td>\n      <td>1338.000000</td>\n      <td>1338.000000</td>\n      <td>1338.000000</td>\n      <td>1338.000000</td>\n      <td>1338.000000</td>\n      <td>1338.000000</td>\n    </tr>\n    <tr>\n      <th>mean</th>\n      <td>39.207025</td>\n      <td>0.505232</td>\n      <td>30.663397</td>\n      <td>1.094918</td>\n      <td>0.204783</td>\n      <td>1.515695</td>\n      <td>13270.422265</td>\n      <td>0.585202</td>\n    </tr>\n    <tr>\n      <th>std</th>\n      <td>14.049960</td>\n      <td>0.500160</td>\n      <td>6.098187</td>\n      <td>1.205493</td>\n      <td>0.403694</td>\n      <td>1.104885</td>\n      <td>12110.011237</td>\n      <td>0.492871</td>\n    </tr>\n    <tr>\n      <th>min</th>\n      <td>18.000000</td>\n      <td>0.000000</td>\n      <td>15.960000</td>\n      <td>0.000000</td>\n      <td>0.000000</td>\n      <td>0.000000</td>\n      <td>1121.873900</td>\n      <td>0.000000</td>\n    </tr>\n    <tr>\n      <th>25%</th>\n      <td>27.000000</td>\n      <td>0.000000</td>\n      <td>26.296250</td>\n      <td>0.000000</td>\n      <td>0.000000</td>\n      <td>1.000000</td>\n      <td>4740.287150</td>\n      <td>0.000000</td>\n    </tr>\n    <tr>\n      <th>50%</th>\n      <td>39.000000</td>\n      <td>1.000000</td>\n      <td>30.400000</td>\n      <td>1.000000</td>\n      <td>0.000000</td>\n      <td>2.000000</td>\n      <td>9382.033000</td>\n      <td>1.000000</td>\n    </tr>\n    <tr>\n      <th>75%</th>\n      <td>51.000000</td>\n      <td>1.000000</td>\n      <td>34.693750</td>\n      <td>2.000000</td>\n      <td>0.000000</td>\n      <td>2.000000</td>\n      <td>16639.912515</td>\n      <td>1.000000</td>\n    </tr>\n    <tr>\n      <th>max</th>\n      <td>64.000000</td>\n      <td>1.000000</td>\n      <td>53.130000</td>\n      <td>5.000000</td>\n      <td>1.000000</td>\n      <td>3.000000</td>\n      <td>63770.428010</td>\n      <td>1.000000</td>\n    </tr>\n  </tbody>\n</table>\n</div>",
                        "text/plain": "               age          sex          bmi     children       smoker  \\\ncount  1338.000000  1338.000000  1338.000000  1338.000000  1338.000000   \nmean     39.207025     0.505232    30.663397     1.094918     0.204783   \nstd      14.049960     0.500160     6.098187     1.205493     0.403694   \nmin      18.000000     0.000000    15.960000     0.000000     0.000000   \n25%      27.000000     0.000000    26.296250     0.000000     0.000000   \n50%      39.000000     1.000000    30.400000     1.000000     0.000000   \n75%      51.000000     1.000000    34.693750     2.000000     0.000000   \nmax      64.000000     1.000000    53.130000     5.000000     1.000000   \n\n            region       charges  insuranceclaim  \ncount  1338.000000   1338.000000     1338.000000  \nmean      1.515695  13270.422265        0.585202  \nstd       1.104885  12110.011237        0.492871  \nmin       0.000000   1121.873900        0.000000  \n25%       1.000000   4740.287150        0.000000  \n50%       2.000000   9382.033000        1.000000  \n75%       2.000000  16639.912515        1.000000  \nmax       3.000000  63770.428010        1.000000  "
                    },
                    "execution_count": 5,
                    "metadata": {},
                    "output_type": "execute_result"
                }
            ],
            "source": "medical.describe()"
        },
        {
            "cell_type": "code",
            "execution_count": 6,
            "metadata": {},
            "outputs": [
                {
                    "data": {
                        "image/png": "[encoded data removed]",
                        "text/plain": "<Figure size 432x288 with 1 Axes>"
                    },
                    "metadata": {
                        "needs_background": "light"
                    },
                    "output_type": "display_data"
                }
            ],
            "source": "plt.hist(medical['charges'], alpha=0.5, color='g')\n\nmu = np.mean(medical['charges']) \nstd = np.std(medical['charges'])\n\ntitle = \"Results: mean = %.2f,  std = %.2f\" % (mu, std)\nplt.title(title)\n\nplt.show()"
        },
        {
            "cell_type": "markdown",
            "metadata": {},
            "source": "__Q:__ The administrator is concerned that the actual average charge has fallen below 12000, threatening the hospital's operational model. On the assumption that these data represent a random sample of charges, how would you justify that these data allow you to answer that question? And what would be the most appropriate frequentist test, of the ones discussed so far, to apply?"
        },
        {
            "cell_type": "markdown",
            "metadata": {},
            "source": "__A:__"
        },
        {
            "cell_type": "markdown",
            "metadata": {},
            "source": "__Q:__ Given the nature of the administrator's concern, what is the appropriate confidence interval in this case? A one-sided or two-sided interval? Calculate the critical value and the relevant 95% confidence interval for the mean and comment on whether the administrator should be concerned?"
        },
        {
            "cell_type": "markdown",
            "metadata": {},
            "source": "__A:__"
        },
        {
            "cell_type": "code",
            "execution_count": 7,
            "metadata": {},
            "outputs": [
                {
                    "name": "stdout",
                    "output_type": "stream",
                    "text": "Here in this case, we only need one sided interval as we are concerned just about the mininmum data\n"
                }
            ],
            "source": "print(\"Here in this case, we only need one sided interval as we are concerned just about the mininmum data\")"
        },
        {
            "cell_type": "code",
            "execution_count": 10,
            "metadata": {},
            "outputs": [
                {
                    "name": "stdout",
                    "output_type": "stream",
                    "text": "Lower limit : 12725.690859802164\n"
                }
            ],
            "source": "\ntcritical = t.ppf(q=0.95, df=len(medical['charges'])-1)\n\nmoe = tcritical*(std/(np.sqrt(len(medical['charges']))))\n\nlower_limit = np.mean(medical['charges']) - moe\n\nprint(\"Lower limit :\", lower_limit)\n"
        },
        {
            "cell_type": "code",
            "execution_count": 11,
            "metadata": {},
            "outputs": [
                {
                    "name": "stdout",
                    "output_type": "stream",
                    "text": "More than 95 percent of the the charges are greater than 12725.690859802164\n"
                }
            ],
            "source": "print(f\"More than 95 percent of the the charges are greater than {lower_limit}\")"
        },
        {
            "cell_type": "markdown",
            "metadata": {},
            "source": "The administrator then wants to know whether people with insurance really are charged a different amount to those without.\n\n__Q:__ State the null and alternative hypothesis here. Use the _t_-test for the difference between means where the pooled standard deviation of the two groups is given by\n\\begin{equation}\ns_p = \\sqrt{\\frac{(n_0 - 1)s^2_0 + (n_1 - 1)s^2_1}{n_0 + n_1 - 2}}\n\\end{equation}\n\nand the *t* test statistic is then given by\n\n\\begin{equation}\nt = \\frac{\\bar{x}_0 - \\bar{x}_1}{s_p \\sqrt{1/n_0 + 1/n_1}}.\n\\end{equation}\n\nWhat assumption about the variances of the two groups are we making here?"
        },
        {
            "cell_type": "markdown",
            "metadata": {},
            "source": "__A:__"
        },
        {
            "cell_type": "markdown",
            "metadata": {},
            "source": "__Q:__ Perform this hypothesis test both manually, using the above formulae, and then using the appropriate function from [scipy.stats](https://docs.scipy.org/doc/scipy/reference/stats.html#statistical-tests) (hint, you're looking for a function to perform a _t_-test on two independent samples). For the manual approach, calculate the value of the test statistic and then its probability (the p-value). Verify you get the same results from both."
        },
        {
            "cell_type": "markdown",
            "metadata": {},
            "source": "__A:__ "
        },
        {
            "cell_type": "code",
            "execution_count": 19,
            "metadata": {},
            "outputs": [
                {
                    "name": "stdout",
                    "output_type": "stream",
                    "text": "Null Hypothesis : (H0)-People with insurance are not charged different\nAlternate Hypothesis : (H1)-People with insurance are charged different\n"
                }
            ],
            "source": "print(\"Null Hypothesis : (H0)-People with insurance are not charged different\")\nprint(\"Alternate Hypothesis : (H1)-People with insurance are charged different\")"
        },
        {
            "cell_type": "code",
            "execution_count": 30,
            "metadata": {},
            "outputs": [],
            "source": "ins = medical['charges'][medical['insuranceclaim'] == 1]\nnon_ins = medical['charges'][medical['insuranceclaim'] == 0]"
        },
        {
            "cell_type": "code",
            "execution_count": 31,
            "metadata": {},
            "outputs": [],
            "source": "from scipy import stats\n\nttest,p_value = stats.ttest_ind(a = ins, b = non_ins)"
        },
        {
            "cell_type": "code",
            "execution_count": 32,
            "metadata": {},
            "outputs": [
                {
                    "name": "stdout",
                    "output_type": "stream",
                    "text": "p-value : 4.461230231620717e-31\nAlternate hypothesis is accepted\n"
                }
            ],
            "source": "print(f\"p-value : {p_value}\")\n\nif(p_value < 0.05):\n    print(\"Alternate hypothesis is accepted\")\nelse:\n    print(\"Null hypothesis accepted\")"
        },
        {
            "cell_type": "markdown",
            "metadata": {},
            "source": "Congratulations! Hopefully you got the exact same numerical results. This shows that you correctly calculated the numbers by hand. Secondly, you used the correct function and saw that it's much easier to use. All you need to do pass your data to it."
        },
        {
            "cell_type": "markdown",
            "metadata": {},
            "source": "__Q:__ In the above calculations, we assumed the sample variances were equal. We may well suspect they are not (we'll explore this in another assignment). The calculation becomes a little more complicated to do by hand in this case, but we now know of a helpful function. Check the documentation for the function to tell it not to assume equal variances and perform the test again."
        },
        {
            "cell_type": "markdown",
            "metadata": {},
            "source": "__A:__"
        },
        {
            "cell_type": "code",
            "execution_count": 33,
            "metadata": {},
            "outputs": [
                {
                    "name": "stdout",
                    "output_type": "stream",
                    "text": "p-value : 1.1105103216309125e-37\nAlternate hypothesis is accepted\n"
                }
            ],
            "source": "ttest,p_value = stats.ttest_ind(a = ins, b = non_ins, equal_var = False)\n\nprint(f\"p-value : {p_value}\")\n\nif(p_value < 0.05):\n    print(\"Alternate hypothesis is accepted\")\nelse:\n    print(\"Null hypothesis accepted\")\n"
        },
        {
            "cell_type": "markdown",
            "metadata": {},
            "source": "__Q:__ Conceptual question: look through the documentation for statistical test functions in scipy.stats. You'll see the above _t_-test for a sample, but can you see an equivalent one for performing a *z*-test from a sample? Comment on your answer."
        },
        {
            "cell_type": "markdown",
            "metadata": {},
            "source": "__A:__"
        },
        {
            "cell_type": "markdown",
            "metadata": {},
            "source": "## Learning outcomes"
        },
        {
            "cell_type": "markdown",
            "metadata": {},
            "source": "Having completed this project notebook, you now have good hands-on experience:\n* using the central limit theorem to help you apply frequentist techniques to answer questions that pertain to very non-normally distributed data from the real world\n* performing inference using such data to answer business questions\n* forming a hypothesis and framing the null and alternative hypotheses\n* testing this using a _t_-test"
        }
    ],
    "metadata": {
        "kernelspec": {
            "display_name": "Python 3.6",
            "language": "python",
            "name": "python3"
        },
        "language_info": {
            "codemirror_mode": {
                "name": "ipython",
                "version": 3
            },
            "file_extension": ".py",
            "mimetype": "text/x-python",
            "name": "python",
            "nbconvert_exporter": "python",
            "pygments_lexer": "ipython3",
            "version": "3.6.9"
        }
    },
    "nbformat": 4,
    "nbformat_minor": 2
}