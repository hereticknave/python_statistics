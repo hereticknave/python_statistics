{
    "cells": [
        {
            "cell_type": "markdown",
            "metadata": {},
            "source": "# Inferential statistics II - Bootstrapping"
        },
        {
            "cell_type": "markdown",
            "metadata": {},
            "source": "## Introduction"
        },
        {
            "cell_type": "markdown",
            "metadata": {},
            "source": "In the previous frequentist mini-projects, you did frequentist calculations to perform inference from a sample of data. Such inference relies on theory largely developed from the 19th-Century onwards that is subject to certain assumptions or theoretical limits. These are fine if those assumptions hold for the particular case you're working on, and what you want to do has a known theoretical distribution (for example the mean of a sampling distribution that we looked at in the previous mini-project.)"
        },
        {
            "cell_type": "markdown",
            "metadata": {},
            "source": "In this mini-project, you'll use the same medical charge data you used in the frequentist inference mini-project, but this time you'll make inferences about the population using bootstrapping (ie. simulating repeated re-runs of an experiment.) If frequentism is about using assumptions and theoretical results to calculate what we expect to happen were an experiment to be run again and again and again, then bootstrapping is about using computing power to essentially re-run the sample draw again and again and again to see what actually happens."
        },
        {
            "cell_type": "markdown",
            "metadata": {},
            "source": "## Prerequisites"
        },
        {
            "cell_type": "markdown",
            "metadata": {},
            "source": "While these exercises do not strictly depend on these concepts, we encourage you to complete the previous mini-projects before starting this one so that you can approach this assignment with a good understanding of frequentist concepts like:\n* the _z_-statistic\n* the _t_-statistic\n* the difference and relationship between the two\n* the Central Limit Theorem, its assumptions and consequences\n* how to estimate the population mean and standard deviation from a sample\n* the concept of a sampling distribution of a test statistic, particularly for the mean\n* how to combine these concepts to calculate confidence intervals and p-values\n* how those confidence intervals and p-values allow you to perform hypothesis (or A/B) tests"
        },
        {
            "cell_type": "markdown",
            "metadata": {},
            "source": "To complete mini-project, it's important that you first complete the bootstrap resources listed in this subunit, as they contain valuable information about how to calculate bootstrap replicates of summary statistics. Having an basic understanding of what confidence intervals and p-values are will also be helpful (we touch on them in this mini-project, but please speak to your mentor or conduct individual research if you'd like to learn more.) "
        },
        {
            "cell_type": "code",
            "execution_count": 84,
            "metadata": {},
            "outputs": [],
            "source": "# The code was removed by Watson Studio for sharing."
        },
        {
            "cell_type": "code",
            "execution_count": 85,
            "metadata": {},
            "outputs": [],
            "source": "import pandas as pd\nimport numpy as np\nfrom numpy.random import seed\nimport matplotlib.pyplot as plt"
        },
        {
            "cell_type": "markdown",
            "metadata": {},
            "source": "## Medical charge data set"
        },
        {
            "cell_type": "code",
            "execution_count": 86,
            "metadata": {},
            "outputs": [
                {
                    "data": {
                        "text/plain": "(1338, 8)"
                    },
                    "execution_count": 86,
                    "metadata": {},
                    "output_type": "execute_result"
                }
            ],
            "source": "med_charges = pd.read_csv('insurance2.csv')\nmed_charges.shape"
        },
        {
            "cell_type": "code",
            "execution_count": 87,
            "metadata": {},
            "outputs": [
                {
                    "data": {
                        "text/html": "<div>\n<style scoped>\n    .dataframe tbody tr th:only-of-type {\n        vertical-align: middle;\n    }\n\n    .dataframe tbody tr th {\n        vertical-align: top;\n    }\n\n    .dataframe thead th {\n        text-align: right;\n    }\n</style>\n<table border=\"1\" class=\"dataframe\">\n  <thead>\n    <tr style=\"text-align: right;\">\n      <th></th>\n      <th>age</th>\n      <th>sex</th>\n      <th>bmi</th>\n      <th>children</th>\n      <th>smoker</th>\n      <th>region</th>\n      <th>charges</th>\n      <th>insuranceclaim</th>\n    </tr>\n  </thead>\n  <tbody>\n    <tr>\n      <th>0</th>\n      <td>19</td>\n      <td>0</td>\n      <td>27.900</td>\n      <td>0</td>\n      <td>1</td>\n      <td>3</td>\n      <td>16884.92400</td>\n      <td>1</td>\n    </tr>\n    <tr>\n      <th>1</th>\n      <td>18</td>\n      <td>1</td>\n      <td>33.770</td>\n      <td>1</td>\n      <td>0</td>\n      <td>2</td>\n      <td>1725.55230</td>\n      <td>1</td>\n    </tr>\n    <tr>\n      <th>2</th>\n      <td>28</td>\n      <td>1</td>\n      <td>33.000</td>\n      <td>3</td>\n      <td>0</td>\n      <td>2</td>\n      <td>4449.46200</td>\n      <td>0</td>\n    </tr>\n    <tr>\n      <th>3</th>\n      <td>33</td>\n      <td>1</td>\n      <td>22.705</td>\n      <td>0</td>\n      <td>0</td>\n      <td>1</td>\n      <td>21984.47061</td>\n      <td>0</td>\n    </tr>\n    <tr>\n      <th>4</th>\n      <td>32</td>\n      <td>1</td>\n      <td>28.880</td>\n      <td>0</td>\n      <td>0</td>\n      <td>1</td>\n      <td>3866.85520</td>\n      <td>1</td>\n    </tr>\n  </tbody>\n</table>\n</div>",
                        "text/plain": "   age  sex     bmi  children  smoker  region      charges  insuranceclaim\n0   19    0  27.900         0       1       3  16884.92400               1\n1   18    1  33.770         1       0       2   1725.55230               1\n2   28    1  33.000         3       0       2   4449.46200               0\n3   33    1  22.705         0       0       1  21984.47061               0\n4   32    1  28.880         0       0       1   3866.85520               1"
                    },
                    "execution_count": 87,
                    "metadata": {},
                    "output_type": "execute_result"
                }
            ],
            "source": "med_charges.head()"
        },
        {
            "cell_type": "markdown",
            "metadata": {},
            "source": "In the previous assignment, you used the frequentist approach to estimate the lower limit for the 95% confidence interval on the mean hospital charge. This approach relies on statistical theory that has been developed over the years and is also limited to statistics for which theoretical results on the sampling distribution exist. These results are remarkably useful and applicable much of the time and under a surprisingly wide range of conditions."
        },
        {
            "cell_type": "markdown",
            "metadata": {},
            "source": "Having calculated the 95% lower confidence interval using frequentist theory in the previous exercise, you'll now use bootstrap inference to verify your calculations and check that you get consistent results without making the assumptions required before. After all, the distribution of charges really was very non-normal."
        },
        {
            "cell_type": "markdown",
            "metadata": {},
            "source": "__Q:__ Use bootstrap sampling to estimate the same 95% confidence interval lower limit as before."
        },
        {
            "cell_type": "markdown",
            "metadata": {},
            "source": "__A:__"
        },
        {
            "cell_type": "code",
            "execution_count": 88,
            "metadata": {},
            "outputs": [
                {
                    "name": "stdout",
                    "output_type": "stream",
                    "text": "Lower limit : 12724.501183601646\n"
                }
            ],
            "source": "np.random.seed(47)\nN_rep = 10000\n\ndata = med_charges['charges']\nboot = np.empty(N_rep)\n\nfor i in range(N_rep):\n    sample = np.random.choice(data, size=len(data), replace=True)\n    boot[i] = np.mean(sample)\n\nordered = sorted(boot)\n\nx = (5 * len(ordered))/100\nlower = ordered[int(x)]\n\n\n\nprint(f\"Lower limit : {lower}\")\n"
        },
        {
            "cell_type": "markdown",
            "metadata": {},
            "source": "If you performed 10000 replicates immediately after setting the random seed to 47, you should get the value 12724 here, which compares very well with the value 12725 obtained using the _t_-distribution confidence interval previously. It is a most pleasant result to see the predictions of classical frequentist theory match with results that are now possible through the number-crunching ability of computers."
        },
        {
            "cell_type": "markdown",
            "metadata": {},
            "source": "Remember, in the previous mini-projects, we saw that there are two ways of performing a _t_-test from a sample, depending on whether we can assume the groups have equal variance or not. We can actually easily test this using the bootstrap approach!"
        },
        {
            "cell_type": "markdown",
            "metadata": {},
            "source": "__Q:__ Calculate the 95% confidence interval for the difference between the standard deviations of insurance and non-insurance claim charges (insured - non-insured). Calculate the differences over 10000 replicates. Plot the histogram of values and mark the locations of the percentiles. State the null and alternative hypothesis and comment on whether you would retain or reject the null hypothesis in this case and why."
        },
        {
            "cell_type": "markdown",
            "metadata": {},
            "source": "__A:__"
        },
        {
            "cell_type": "code",
            "execution_count": 89,
            "metadata": {},
            "outputs": [
                {
                    "name": "stdout",
                    "output_type": "stream",
                    "text": "Lower limit : 6681.575435085375\nUpper limit : 8502.824647549824\n"
                }
            ],
            "source": "np.random.seed(47)\nN_rep = 10000\n\nins = med_charges['charges'][med_charges['insuranceclaim'] == 1]\nnon_ins = med_charges['charges'][med_charges['insuranceclaim'] == 0]\n\nboot=np.empty(N_rep)\n\nfor i in range(N_rep):\n    sample1 = np.random.choice(ins, size=len(ins), replace=True)\n    sample2 = np.random.choice(non_ins, size=len(non_ins), replace=True)\n    boot[i] = np.std(sample1) - np.std(sample2)\n\nordered = sorted(boot)\n\nx = (2.5 * len(ordered))/100\nlower = ordered[int(x)]\ny = (97.5 * len(ordered))/100\nupper = ordered[int(y)]\n\nprint(f\"Lower limit : {lower}\")\nprint(f\"Upper limit : {upper}\")"
        },
        {
            "cell_type": "code",
            "execution_count": 90,
            "metadata": {},
            "outputs": [],
            "source": "conf_interval = [lower, upper]"
        },
        {
            "cell_type": "code",
            "execution_count": 91,
            "metadata": {},
            "outputs": [
                {
                    "data": {
                        "image/png": "[encoded data removed]",
                        "text/plain": "<Figure size 432x288 with 1 Axes>"
                    },
                    "metadata": {
                        "needs_background": "light"
                    },
                    "output_type": "display_data"
                }
            ],
            "source": "\n_ = plt.hist(ordered,  edgecolor = 'white', linewidth = 0.75, bins = 25)\n_ = plt.xlabel('Mean of STD difference of All Claim Charges')\n_ = plt.axvline(np.mean(ordered), color='r')\n_ = plt.axvline(conf_interval[0], color='r', linestyle='--')\n_ = plt.axvline(conf_interval[1], color='r', linestyle='--')"
        },
        {
            "cell_type": "code",
            "execution_count": 92,
            "metadata": {},
            "outputs": [
                {
                    "name": "stdout",
                    "output_type": "stream",
                    "text": "H0 : there is no difference in standard deviations between insured and non-insured groups\nH1 : there is a difference in standard deviations between insured and non-insured groups\n"
                }
            ],
            "source": "print(\"H0 : there is no difference in standard deviations between insured and non-insured groups\")\nprint(\"H1 : there is a difference in standard deviations between insured and non-insured groups\")"
        },
        {
            "cell_type": "code",
            "execution_count": 93,
            "metadata": {},
            "outputs": [
                {
                    "name": "stdout",
                    "output_type": "stream",
                    "text": "Null Hypothesis Rejected\n"
                }
            ],
            "source": "if(0 in conf_interval):\n    print(\"Null Hypothesis Accepted\")\nelse:\n    print(\"Null Hypothesis Rejected\")"
        },
        {
            "cell_type": "markdown",
            "metadata": {},
            "source": "## Confidence interval and p-value"
        },
        {
            "cell_type": "markdown",
            "metadata": {},
            "source": "The confidence interval above is often a useful quantity to estimate. If we wish to limit our expected probability of making a Type I error (where we wrongly reject the null hypothesis, and it is, instead, true) to $\\alpha$, the associated confidence interval is our estimate of the interval within which we expect the true population value to be found $100\\times(1 - \\alpha)$% of the time we do this test. In the above we performed bootstrap replicates to estimate the interval and reject the null hypothesis if this interval did not contain zero. You will sometimes see such an interval reported in the output of statistical functions.\n\nThe partner of the confidence interval is the p-value. The p-value and the confidence interval are linked through our choice of $\\alpha$. The p-value tells us how likely it is, under the null hypothesis, to get an outcome at least as extreme as what was observed. If this fails to reach the level of our _pre-specified_ $\\alpha$, we decide the null hypothesis is sufficiently unlikely to be true and thus reject it. To calculate this p-value via the bootstrap, we have to put ourselves in a position where we are simulating the null hypothesis being true and then calculate the fraction of times we observe a result at least as extreme as that actually observed.\n\nRemember how, previously, you used the _t_-test to calculate the p-value for the observed difference between the means of insured and non-insured medical cases. We're now going to repeat this, this time using the bootstrap approach.\n\n__Q:__ Perform a bootstrapped hypothesis test at the 5% significance level ($\\alpha = 0.05$) to calculate the p-value of the observed difference between insurance and non-insurance charges, state your null and alternative hypotheses and whether you retain or reject the null hypothesis for the given significance level."
        },
        {
            "cell_type": "markdown",
            "metadata": {},
            "source": "__A:__ "
        },
        {
            "cell_type": "code",
            "execution_count": 94,
            "metadata": {},
            "outputs": [
                {
                    "name": "stdout",
                    "output_type": "stream",
                    "text": "Null hypothesis is that there is no difference between means of insurance and non-insurance charges. Alternative hypothesis is that there is a difference between the means. From the below result, the p-value is less than 5% so we can reject the null-hypothesis\n"
                }
            ],
            "source": "print(\"Null hypothesis is that there is no difference between means of insurance and non-insurance charges. Alternative hypothesis is that there is a difference between the means. From the below result, the p-value is less than 5% so we can reject the null-hypothesis\")"
        },
        {
            "cell_type": "code",
            "execution_count": 95,
            "metadata": {},
            "outputs": [
                {
                    "name": "stdout",
                    "output_type": "stream",
                    "text": "p_value : 0.0\n"
                }
            ],
            "source": "np.random.seed(47)\nN_rep = 10000\n\nins = med_charges['charges'][med_charges['insuranceclaim'] == 1]\nnon_ins = med_charges['charges'][med_charges['insuranceclaim'] == 0]\n\nboot=np.empty(N_rep)\n\nfor i in range(N_rep):\n    sample1 = np.random.choice(ins, size=len(ins))\n    sample2 = np.random.choice(non_ins, size=len(non_ins))\n    boot[i] = np.mean(sample1) - np.mean(sample2)\n\np_value = np.sum(boot < 0) / 10000\n\nprint(f\"p_value : {p_value}\")"
        },
        {
            "cell_type": "code",
            "execution_count": 96,
            "metadata": {},
            "outputs": [
                {
                    "name": "stdout",
                    "output_type": "stream",
                    "text": "7602.506384231368\n"
                }
            ],
            "source": "print(np.mean(ins) - np.mean(non_ins))"
        },
        {
            "cell_type": "code",
            "execution_count": 97,
            "metadata": {},
            "outputs": [
                {
                    "name": "stdout",
                    "output_type": "stream",
                    "text": "7606.530543568939\n"
                }
            ],
            "source": "print(np.mean(boot))"
        },
        {
            "cell_type": "code",
            "execution_count": 98,
            "metadata": {},
            "outputs": [
                {
                    "name": "stdout",
                    "output_type": "stream",
                    "text": "7346.139189547747\n"
                }
            ],
            "source": "diff = np.array([list(ins)[i] - list(non_ins)[i] for i in range(len(non_ins))])\nprint(diff.mean())"
        },
        {
            "cell_type": "code",
            "execution_count": 99,
            "metadata": {},
            "outputs": [
                {
                    "name": "stdout",
                    "output_type": "stream",
                    "text": "Here we have 3 values\nMean of differences of mean from bootstrap sample : 7606.530543568939\nMean of differences of mean from actual sample : 7602.506384231368\nMean of difference of values from actual sample : 7346.139189547747\n"
                }
            ],
            "source": "print(\"Here we have 3 values\")\nprint(f\"Mean of differences of mean from bootstrap sample : {np.mean(boot)}\")\nprint(f\"Mean of differences of mean from actual sample : {(np.mean(ins) - np.mean(non_ins))}\")\nprint(f\"Mean of difference of values from actual sample : {diff.mean()}\")"
        },
        {
            "cell_type": "markdown",
            "metadata": {},
            "source": "__Q:__ To put the above result in perspective, plot the histogram of your bootstrapped differences along with lines marking the locations of the observed difference. (Why would we plot more than one line, given that we only have one observed difference?)"
        },
        {
            "cell_type": "markdown",
            "metadata": {},
            "source": "__A:__"
        },
        {
            "cell_type": "code",
            "execution_count": 100,
            "metadata": {},
            "outputs": [
                {
                    "data": {
                        "image/png": "[encoded data removed]",
                        "text/plain": "<Figure size 432x288 with 1 Axes>"
                    },
                    "metadata": {
                        "needs_background": "light"
                    },
                    "output_type": "display_data"
                }
            ],
            "source": "_ = plt.hist(boot, color='green', alpha = 0.6, bins = 20)\n_ = plt.axvline(np.mean(ins) - np.mean(non_ins), color='blue', linestyle='--')\n_ = plt.axvline(np.mean(boot), color='black', linestyle=':')\n_ = plt.axvline(np.mean(diff), color='red', linestyle=':')\n_ = plt.xlabel('Difference of Means of medical charges')\n_ = plt.ylabel('PDF')\nplt.show()"
        },
        {
            "cell_type": "markdown",
            "metadata": {},
            "source": "__Q:__ Compare your p-value above with that obtained using the _t_-test function in the previous assignment. Do you think you would want to try to perform enough bootstrap replicates to observe a random difference as large as that we did observe?"
        },
        {
            "cell_type": "markdown",
            "metadata": {},
            "source": "__A:__  The p-value observed in the previous assignment was 1.1105103216309125e-37 without equal variance. This value is also less than 0.05. So, the test with bootstrap replicate we did should be enough to reject null hypothesis"
        },
        {
            "cell_type": "markdown",
            "metadata": {},
            "source": "__Q:__ Consider the two variants of the _t_-test we performed in the previous assignment. Which one would you use now?"
        },
        {
            "cell_type": "markdown",
            "metadata": {},
            "source": "__A:__ Since we are rejecting the null hypothesis that both means are the same, we have to use the variant with equal_var=False"
        },
        {
            "cell_type": "markdown",
            "metadata": {},
            "source": "__Q:__ If, instead of being asked whether the means of two groups were different, you were working with an ad-recommender team who wanted to release a new recommendation algorithm, and you were looking at click-through rate both for the current algorithm (call it A) and from trials of their new algorithm (call it B), would you perform a two-sided test as above? What would be your null and alternative hypotheses and what would be the real-world consequence of rejecting the null hypothesis?"
        },
        {
            "cell_type": "markdown",
            "metadata": {},
            "source": "__A:__ We would use 1-sided test since we are interested in if the new algorithm(B) is yielding better click-through rate than A. We would not be interested in finding out if B has lower click-through rate. Null hypothesis: B has lower or the same click-through rate as A Alternative hypothesis: B has better click-through rate than A If we reject the null hypothesis, we might want to continue A/B testing for more period of time and/or increase the number of users who are seeing Ads from algorithm B. Finally, the marketing team will have to see if the cost of chaning the algorithm is worth the extra click-through rate.\n\n"
        },
        {
            "cell_type": "markdown",
            "metadata": {},
            "source": "# Learning outcomes\n\nYou've previously applied frequentist methods to calculate confidence intervals, p-values, and perform hypothesis tests. Frequentist methods use theoretical results to calculate what we expect would happen if experiments were to be run again and again and again. Now you've seen how you can do the same things using the bootstrap approach, which does not rely on such theory, and attendant assumptions, but instead literally does run experiments again and again and again.\n\nIn these exercises, you have:\n* calculated the same confidence interval lower limit as you did previously\n* tested the assumption that the variances of the two groups (insured vs. non-insured) were equal - something a bit harder to do using the frequentist method because of the nature of the sampling distribution for variance\n* calculated the p-value for the difference between the means of the two groups and compared with the result obtained using the previous frequentist approach\n\nYou are now well equipped to apply the bootstrap approach to a wide variety of problems. Just think about what conditions you wish to recreate in your simulated reruns."
        }
    ],
    "metadata": {
        "kernelspec": {
            "display_name": "Python 3.6",
            "language": "python",
            "name": "python3"
        },
        "language_info": {
            "codemirror_mode": {
                "name": "ipython",
                "version": 3
            },
            "file_extension": ".py",
            "mimetype": "text/x-python",
            "name": "python",
            "nbconvert_exporter": "python",
            "pygments_lexer": "ipython3",
            "version": "3.6.9"
        }
    },
    "nbformat": 4,
    "nbformat_minor": 2
}